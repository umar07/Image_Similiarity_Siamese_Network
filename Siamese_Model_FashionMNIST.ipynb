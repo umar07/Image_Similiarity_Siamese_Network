{
 "cells": [
  {
   "cell_type": "code",
   "execution_count": null,
   "metadata": {},
   "outputs": [],
   "source": []
  },
  {
   "cell_type": "code",
   "execution_count": 3,
   "metadata": {},
   "outputs": [],
   "source": [
    "import random\n",
    "import numpy as np\n",
    "import pandas as pd\n",
    "from tensorflow.keras.datasets import fashion_mnist\n",
    "import tensorflow as tf\n",
    "from tensorflow.keras.models import Sequential, Model\n",
    "from tensorflow.keras.layers import Flatten, Dense, Dot, Lambda, Input\n",
    "from tensorflow.keras.datasets import mnist\n",
    "from tensorflow.keras.optimizers import Adam\n",
    "import matplotlib.pyplot as plt\n",
    "import cv2"
   ]
  },
  {
   "cell_type": "markdown",
   "metadata": {},
   "source": [
    "**Loading the data in pairs. The shape of x_train_pairs would be (BatchCount, 2, width, height), 2 meaning we have 2 images to make the pair.\n",
    "The y_train_label will have a 1D array of labels- 0 for dissimilar images and 1 for similar images.**"
   ]
  },
  {
   "cell_type": "code",
   "execution_count": 4,
   "metadata": {},
   "outputs": [],
   "source": [
    "(x_train, y_train), (x_test, y_test) = fashion_mnist.load_data()\n",
    "x_train = x_train.astype('float32')\n",
    "x_test = x_test.astype('float32')\n",
    "x_train /= 255.0\n",
    "x_test /= 255.0"
   ]
  },
  {
   "cell_type": "code",
   "execution_count": 12,
   "metadata": {},
   "outputs": [
    {
     "data": {
      "text/plain": [
       "[(array([    1,     2,     4, ..., 59974, 59985, 59998]),),\n",
       " (array([   16,    21,    38, ..., 59989, 59991, 59996]),),\n",
       " (array([    5,     7,    27, ..., 59977, 59981, 59993]),),\n",
       " (array([    3,    20,    25, ..., 59971, 59980, 59997]),),\n",
       " (array([   19,    22,    24, ..., 59984, 59986, 59990]),),\n",
       " (array([    8,     9,    12, ..., 59983, 59995, 59999]),),\n",
       " (array([   18,    32,    33, ..., 59973, 59987, 59988]),),\n",
       " (array([    6,    14,    41, ..., 59951, 59979, 59992]),),\n",
       " (array([   23,    35,    57, ..., 59962, 59967, 59994]),),\n",
       " (array([    0,    11,    15, ..., 59932, 59970, 59978]),)]"
      ]
     },
     "execution_count": 12,
     "metadata": {},
     "output_type": "execute_result"
    }
   ],
   "source": [
    "digit_indices = [np.where(y_train == i) for i in range(10)]\n",
    "digit_indices"
   ]
  },
  {
   "cell_type": "code",
   "execution_count": 13,
   "metadata": {},
   "outputs": [],
   "source": [
    "\n",
    "# make pairs\n",
    "def make_pairs(x, y):\n",
    "    num_classes = max(y) + 1\n",
    "    digit_indices = [np.where(y == i)[0] for i in range(num_classes)]\n",
    "\n",
    "    pairs = []\n",
    "    labels = []\n",
    "\n",
    "    for idx1 in range(len(x)):\n",
    "        # add a matching example\n",
    "        x1 = x[idx1]\n",
    "        label1 = y[idx1]\n",
    "        idx2 = random.choice(digit_indices[label1])\n",
    "        x2 = x[idx2]\n",
    "        \n",
    "        pairs += [[x1, x2]]\n",
    "        labels += [1]\n",
    "    \n",
    "        # add a not matching example\n",
    "        label2 = random.randint(0, num_classes-1)\n",
    "        while label2 == label1:\n",
    "            label2 = random.randint(0, num_classes-1)\n",
    "\n",
    "        idx2 = random.choice(digit_indices[label2])\n",
    "        x2 = x[idx2]\n",
    "        \n",
    "        pairs += [[x1, x2]]\n",
    "        labels += [0]\n",
    "\n",
    "    return np.array(pairs), np.array(labels)\n",
    "\n",
    "x_train_pairs, y_train_label = make_pairs(x_train, y_train)\n",
    "x_test_pairs, y_test_label = make_pairs(x_test, y_test)"
   ]
  },
  {
   "cell_type": "code",
   "execution_count": 14,
   "metadata": {},
   "outputs": [
    {
     "name": "stdout",
     "output_type": "stream",
     "text": [
      "(120000, 2, 28, 28, 1)\n",
      "(20000, 2, 28, 28, 1)\n"
     ]
    }
   ],
   "source": [
    "x_train_pairs = x_train_pairs[...,np.newaxis] # convolution needs to have (28,28,1)\n",
    "x_test_pairs = x_test_pairs[...,np.newaxis]\n",
    "print(x_train_pairs.shape)\n",
    "print(x_test_pairs.shape)"
   ]
  },
  {
   "cell_type": "markdown",
   "metadata": {},
   "source": [
    "**Visualising the data we prepared:**"
   ]
  },
  {
   "cell_type": "code",
   "execution_count": 20,
   "metadata": {},
   "outputs": [
    {
     "data": {
      "text/plain": [
       "<matplotlib.image.AxesImage at 0x7f501eda46a0>"
      ]
     },
     "execution_count": 20,
     "metadata": {},
     "output_type": "execute_result"
    },
    {
     "data": {
      "image/png": "[encoded data removed]",
      "text/plain": [
       "<Figure size 432x288 with 1 Axes>"
      ]
     },
     "metadata": {
      "needs_background": "light"
     },
     "output_type": "display_data"
    }
   ],
   "source": [
    "plt.imshow(x_train_pairs[1701,0]) #the result would be (28,28,1) image of the 1701th row count"
   ]
  },
  {
   "cell_type": "code",
   "execution_count": 19,
   "metadata": {},
   "outputs": [
    {
     "name": "stdout",
     "output_type": "stream",
     "text": [
      "0\n"
     ]
    },
    {
     "data": {
      "image/png": "[encoded data removed]",
      "text/plain": [
       "<Figure size 432x288 with 1 Axes>"
      ]
     },
     "metadata": {
      "needs_background": "light"
     },
     "output_type": "display_data"
    }
   ],
   "source": [
    "plt.imshow(x_train_pairs[1701,1]) # A trouser above and a shirt/tshirt below are dissimilar thus label=0\n",
    "print(y_train_label[1701])"
   ]
  },
  {
   "cell_type": "markdown",
   "metadata": {},
   "source": [
    "### Defining Siamese Model"
   ]
  },
  {
   "cell_type": "code",
   "execution_count": 21,
   "metadata": {},
   "outputs": [],
   "source": [
    "from tensorflow.keras import backend as K\n",
    "from tensorflow.keras.models import Model\n",
    "from tensorflow.keras import layers"
   ]
  },
  {
   "cell_type": "code",
   "execution_count": 22,
   "metadata": {},
   "outputs": [],
   "source": [
    "# Euclidean distance function\n",
    "def euclidean_distance(vects):\n",
    "    x, y = vects\n",
    "    sum_square = K.sum(K.square(x - y), axis=1, keepdims=True)\n",
    "    return K.sqrt(K.maximum(sum_square, K.epsilon()))\n"
   ]
  },
  {
   "cell_type": "code",
   "execution_count": 28,
   "metadata": {},
   "outputs": [],
   "source": [
    "# https://github.com/lukas/ml-class/blob/master/videos/one-shot/One%20Shot.ipynb\n",
    "# Basic model from here.\n",
    "\n",
    "# input = Input((128,128))\n",
    "# x = Flatten()(input)\n",
    "# x = Dense(128, activation='relu')(x)\n",
    "# dense = Model(input, x)\n",
    "\n",
    "# input1 = Input((128,128))\n",
    "# input2 = Input((128,128))\n",
    "\n",
    "# dense1 = dense(input1)\n",
    "# dense2 = dense(input2)\n",
    "\n",
    "# merge_layer = Lambda(euclidean_distance)([dense1,dense2])\n",
    "# dense_layer = Dense(1, activation=\"sigmoid\")(merge_layer)\n",
    "\n",
    "# model = Model(inputs=[input1, input2], outputs=dense_layer)"
   ]
  },
  {
   "cell_type": "code",
   "execution_count": 27,
   "metadata": {},
   "outputs": [],
   "source": [
    "initializer = tf.keras.initializers.GlorotNormal()\n",
    "\n",
    "inputs = layers.Input(shape=(28,28,1))\n",
    "x = layers.Conv2D(16, (3,3), activation=tf.keras.layers.LeakyReLU(alpha=0.3), padding='same', \n",
    "                  kernel_initializer=initializer)(inputs)\n",
    "x = layers.Conv2D(32, (3,3), activation=tf.keras.layers.LeakyReLU(alpha=0.3), padding='same', \n",
    "                  kernel_initializer=initializer)(x)\n",
    "x = layers.MaxPooling2D(pool_size=(2,2))(x)\n",
    "x = layers.Conv2D(64, (3,3), activation=tf.keras.layers.LeakyReLU(alpha=0.3), padding='same', \n",
    "                  kernel_initializer=initializer)(x)\n",
    "x = layers.MaxPooling2D(pool_size=(2,2))(x)\n",
    "x = layers.Dropout(0.4)(x)\n",
    "x = layers.Conv2D(128, (3,3), activation=tf.keras.layers.LeakyReLU(alpha=0.3), padding='same', \n",
    "                  kernel_initializer=initializer)(x)\n",
    "x = layers.MaxPooling2D(pool_size=(2,2))(x)\n",
    "x = layers.Dropout(0.4)(x)\n",
    "x = layers.Flatten()(x)\n",
    "x = layers.Dense(64, activation=tf.keras.layers.LeakyReLU(alpha=0.3), kernel_initializer=initializer)(x)\n",
    "x = layers.Dropout(0.2)(x)\n",
    "output = layers.Dense(28)(x)\n",
    "\n",
    "embedding = Model(inputs, output, name=\"Embedding\") #gives 28 embedding output model.\n",
    "\n",
    "imgA = layers.Input(shape=(28,28,1))\n",
    "imgB = layers.Input(shape=(28,28,1))\n",
    "featsA = embedding(imgA)\n",
    "featsB = embedding(imgB)\n",
    "\n",
    "distance = layers.Lambda(euclidean_distance)([featsA, featsB])\n",
    "# print(\"Output of Lambda layer is: \", distance)\n",
    "final_distance = layers.Dense(1, activation=\"sigmoid\")(distance)\n",
    "model = Model(inputs=[imgA, imgB], outputs=final_distance)\n"
   ]
  },
  {
   "cell_type": "code",
   "execution_count": 28,
   "metadata": {},
   "outputs": [
    {
     "name": "stdout",
     "output_type": "stream",
     "text": [
      "Model: \"model_1\"\n",
      "__________________________________________________________________________________________________\n",
      "Layer (type)                    Output Shape         Param #     Connected to                     \n",
      "==================================================================================================\n",
      "input_5 (InputLayer)            [(None, 28, 28, 1)]  0                                            \n",
      "__________________________________________________________________________________________________\n",
      "input_6 (InputLayer)            [(None, 28, 28, 1)]  0                                            \n",
      "__________________________________________________________________________________________________\n",
      "Embedding (Functional)          (None, 28)           172764      input_5[0][0]                    \n",
      "                                                                 input_6[0][0]                    \n",
      "__________________________________________________________________________________________________\n",
      "lambda_1 (Lambda)               (None, 1)            0           Embedding[0][0]                  \n",
      "                                                                 Embedding[1][0]                  \n",
      "__________________________________________________________________________________________________\n",
      "dense_5 (Dense)                 (None, 1)            2           lambda_1[0][0]                   \n",
      "==================================================================================================\n",
      "Total params: 172,766\n",
      "Trainable params: 172,766\n",
      "Non-trainable params: 0\n",
      "__________________________________________________________________________________________________\n"
     ]
    }
   ],
   "source": [
    "model.compile(loss = \"binary_crossentropy\", optimizer=\"adam\", metrics=[\"accuracy\"])\n",
    "model.summary()"
   ]
  },
  {
   "cell_type": "code",
   "execution_count": 25,
   "metadata": {},
   "outputs": [],
   "source": [
    "# Early stopping callback\n",
    "callback = tf.keras.callbacks.EarlyStopping(monitor='val_loss', patience=7)"
   ]
  },
  {
   "cell_type": "code",
   "execution_count": 29,
   "metadata": {},
   "outputs": [
    {
     "name": "stdout",
     "output_type": "stream",
     "text": [
      "Epoch 1/100\n",
      "6750/6750 [==============================] - 386s 57ms/step - loss: 0.6926 - accuracy: 0.4980 - val_loss: 0.4635 - val_accuracy: 0.8290\n",
      "Epoch 2/100\n",
      "6750/6750 [==============================] - 379s 56ms/step - loss: 0.4160 - accuracy: 0.8180 - val_loss: 0.2984 - val_accuracy: 0.8748\n",
      "Epoch 3/100\n",
      "6750/6750 [==============================] - 384s 57ms/step - loss: 0.3248 - accuracy: 0.8654 - val_loss: 0.2480 - val_accuracy: 0.9016\n",
      "Epoch 4/100\n",
      "6750/6750 [==============================] - 382s 57ms/step - loss: 0.2763 - accuracy: 0.8906 - val_loss: 0.2415 - val_accuracy: 0.9018\n",
      "Epoch 5/100\n",
      "6750/6750 [==============================] - 385s 57ms/step - loss: 0.2501 - accuracy: 0.8999 - val_loss: 0.2152 - val_accuracy: 0.9158\n",
      "Epoch 6/100\n",
      "6750/6750 [==============================] - 384s 57ms/step - loss: 0.2388 - accuracy: 0.9053 - val_loss: 0.2023 - val_accuracy: 0.9237\n",
      "Epoch 7/100\n",
      "6750/6750 [==============================] - 389s 58ms/step - loss: 0.2275 - accuracy: 0.9093 - val_loss: 0.2241 - val_accuracy: 0.9175\n",
      "Epoch 8/100\n",
      "6750/6750 [==============================] - 385s 57ms/step - loss: 0.2115 - accuracy: 0.9172 - val_loss: 0.1886 - val_accuracy: 0.9286\n",
      "Epoch 9/100\n",
      "6750/6750 [==============================] - 450s 67ms/step - loss: 0.2077 - accuracy: 0.9181 - val_loss: 0.1622 - val_accuracy: 0.9360\n",
      "Epoch 10/100\n",
      "6750/6750 [==============================] - 440s 65ms/step - loss: 0.1996 - accuracy: 0.9225 - val_loss: 0.1633 - val_accuracy: 0.9386\n",
      "Epoch 11/100\n",
      "6750/6750 [==============================] - 377s 56ms/step - loss: 0.1941 - accuracy: 0.9245 - val_loss: 0.1742 - val_accuracy: 0.9355\n",
      "Epoch 12/100\n",
      "6750/6750 [==============================] - 428s 63ms/step - loss: 0.1898 - accuracy: 0.9267 - val_loss: 0.1768 - val_accuracy: 0.9343\n",
      "Epoch 13/100\n",
      "6750/6750 [==============================] - 469s 69ms/step - loss: 0.1815 - accuracy: 0.9297 - val_loss: 0.1944 - val_accuracy: 0.9267\n",
      "Epoch 14/100\n",
      "6750/6750 [==============================] - 491s 73ms/step - loss: 0.1851 - accuracy: 0.9286 - val_loss: 0.1529 - val_accuracy: 0.9421\n",
      "Epoch 15/100\n",
      "6750/6750 [==============================] - 485s 72ms/step - loss: 0.1786 - accuracy: 0.9307 - val_loss: 0.1567 - val_accuracy: 0.9414\n",
      "Epoch 16/100\n",
      "6750/6750 [==============================] - 438s 65ms/step - loss: 0.1792 - accuracy: 0.9300 - val_loss: 0.1433 - val_accuracy: 0.9439\n",
      "Epoch 17/100\n",
      "6750/6750 [==============================] - 390s 58ms/step - loss: 0.1766 - accuracy: 0.9322 - val_loss: 0.1412 - val_accuracy: 0.9438\n",
      "Epoch 18/100\n",
      "6750/6750 [==============================] - 394s 58ms/step - loss: 0.1743 - accuracy: 0.9323 - val_loss: 0.1539 - val_accuracy: 0.9421\n",
      "Epoch 19/100\n",
      "6750/6750 [==============================] - 405s 60ms/step - loss: 0.1719 - accuracy: 0.9333 - val_loss: 0.1611 - val_accuracy: 0.9390\n",
      "Epoch 20/100\n",
      "6750/6750 [==============================] - 403s 60ms/step - loss: 0.1723 - accuracy: 0.9331 - val_loss: 0.1620 - val_accuracy: 0.9398\n",
      "Epoch 21/100\n",
      "6750/6750 [==============================] - 399s 59ms/step - loss: 0.1635 - accuracy: 0.9367 - val_loss: 0.1816 - val_accuracy: 0.9327\n",
      "Epoch 22/100\n",
      "6750/6750 [==============================] - 498s 74ms/step - loss: 0.1652 - accuracy: 0.9368 - val_loss: 0.1758 - val_accuracy: 0.9368\n",
      "Epoch 23/100\n",
      "6750/6750 [==============================] - 568s 84ms/step - loss: 0.1618 - accuracy: 0.9376 - val_loss: 0.1361 - val_accuracy: 0.9475\n",
      "Epoch 24/100\n",
      "6750/6750 [==============================] - 470s 70ms/step - loss: 0.1626 - accuracy: 0.9370 - val_loss: 0.1454 - val_accuracy: 0.9421\n",
      "Epoch 25/100\n",
      "6750/6750 [==============================] - 549s 81ms/step - loss: 0.1668 - accuracy: 0.9365 - val_loss: 0.1356 - val_accuracy: 0.9491\n",
      "Epoch 26/100\n",
      "6750/6750 [==============================] - 466s 69ms/step - loss: 0.1607 - accuracy: 0.9389 - val_loss: 0.1438 - val_accuracy: 0.9458\n",
      "Epoch 27/100\n",
      "6750/6750 [==============================] - 500s 74ms/step - loss: 0.1577 - accuracy: 0.9393 - val_loss: 0.1638 - val_accuracy: 0.9401\n",
      "Epoch 28/100\n",
      "6750/6750 [==============================] - 467s 69ms/step - loss: 0.1566 - accuracy: 0.9403 - val_loss: 0.1360 - val_accuracy: 0.9498\n",
      "Epoch 29/100\n",
      "6750/6750 [==============================] - 397s 59ms/step - loss: 0.1581 - accuracy: 0.9399 - val_loss: 0.1459 - val_accuracy: 0.9467\n",
      "Epoch 30/100\n",
      "6750/6750 [==============================] - 439s 65ms/step - loss: 0.1548 - accuracy: 0.9411 - val_loss: 0.1436 - val_accuracy: 0.9459\n",
      "Epoch 31/100\n",
      "6750/6750 [==============================] - 419s 62ms/step - loss: 0.1512 - accuracy: 0.9415 - val_loss: 0.1421 - val_accuracy: 0.9463\n",
      "Epoch 32/100\n",
      "6750/6750 [==============================] - 353s 52ms/step - loss: 0.1558 - accuracy: 0.9399 - val_loss: 0.1411 - val_accuracy: 0.9482\n"
     ]
    },
    {
     "data": {
      "text/plain": [
       "<tensorflow.python.keras.callbacks.History at 0x7f501da86438>"
      ]
     },
     "execution_count": 29,
     "metadata": {},
     "output_type": "execute_result"
    }
   ],
   "source": [
    "# wandb.init(project=\"siamese\")\n",
    "model.fit([x_train_pairs[:,0], x_train_pairs[:,1]], y_train_label[:], validation_split=0.1,\n",
    "          batch_size=16, epochs=100, callbacks=[callback])"
   ]
  },
  {
   "cell_type": "code",
   "execution_count": 30,
   "metadata": {},
   "outputs": [
    {
     "name": "stdout",
     "output_type": "stream",
     "text": [
      "625/625 [==============================] - 16s 25ms/step - loss: 0.1586 - accuracy: 0.9424\n"
     ]
    },
    {
     "data": {
      "text/plain": [
       "[0.15864908695220947, 0.9423999786376953]"
      ]
     },
     "execution_count": 30,
     "metadata": {},
     "output_type": "execute_result"
    }
   ],
   "source": [
    "model.evaluate([x_test_pairs[:,0], x_test_pairs[:,1]], y_test_label)"
   ]
  },
  {
   "cell_type": "code",
   "execution_count": null,
   "metadata": {},
   "outputs": [],
   "source": []
  }
 ],
 "metadata": {
  "kernelspec": {
   "display_name": "Python 3",
   "language": "python",
   "name": "python3"
  },
  "language_info": {
   "codemirror_mode": {
    "name": "ipython",
    "version": 3
   },
   "file_extension": ".py",
   "mimetype": "text/x-python",
   "name": "python",
   "nbconvert_exporter": "python",
   "pygments_lexer": "ipython3",
   "version": "3.6.9"
  },
  "varInspector": {
   "cols": {
    "lenName": 16,
    "lenType": 16,
    "lenVar": 40
   },
   "kernels_config": {
    "python": {
     "delete_cmd_postfix": "",
     "delete_cmd_prefix": "del ",
     "library": "var_list.py",
     "varRefreshCmd": "print(var_dic_list())"
    },
    "r": {
     "delete_cmd_postfix": ") ",
     "delete_cmd_prefix": "rm(",
     "library": "var_list.r",
     "varRefreshCmd": "cat(var_dic_list()) "
    }
   },
   "types_to_exclude": [
    "module",
    "function",
    "builtin_function_or_method",
    "instance",
    "_Feature"
   ],
   "window_display": false
  }
 },
 "nbformat": 4,
 "nbformat_minor": 4
}
